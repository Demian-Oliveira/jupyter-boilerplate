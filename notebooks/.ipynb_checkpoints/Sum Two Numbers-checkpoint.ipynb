{
 "cells": [
  {
   "cell_type": "markdown",
   "id": "6c3aae4b",
   "metadata": {},
   "source": [
    "In this notebook, I'll present you how to sum two numbers"
   ]
  },
  {
   "cell_type": "code",
   "execution_count": 1,
   "id": "e2f45d39",
   "metadata": {},
   "outputs": [],
   "source": [
    "from utils.sum_number import sum"
   ]
  },
  {
   "cell_type": "code",
   "execution_count": 2,
   "id": "66e8100e",
   "metadata": {},
   "outputs": [
    {
     "data": {
      "text/plain": [
       "3"
      ]
     },
     "execution_count": 2,
     "metadata": {},
     "output_type": "execute_result"
    }
   ],
   "source": [
    "sum(1,2)"
   ]
  }
 ],
 "metadata": {
  "kernelspec": {
   "display_name": "Python 3 (ipykernel)",
   "language": "python",
   "name": "python3"
  },
  "language_info": {
   "codemirror_mode": {
    "name": "ipython",
    "version": 3
   },
   "file_extension": ".py",
   "mimetype": "text/x-python",
   "name": "python",
   "nbconvert_exporter": "python",
   "pygments_lexer": "ipython3",
   "version": "3.8.10"
  }
 },
 "nbformat": 4,
 "nbformat_minor": 5
}
